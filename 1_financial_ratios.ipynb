{
 "cells": [
  {
   "cell_type": "markdown",
   "id": "0b7a8737",
   "metadata": {},
   "source": [
    "# 📊 Apple Financial Ratios Analysis (2021–2023)\n",
    "\n",
    "This notebook analyzes Apple's financial ratios using data from its 10-K reports."
   ]
  },
  {
   "cell_type": "code",
   "execution_count": null,
   "id": "370c9718",
   "metadata": {},
   "outputs": [],
   "source": [
    "import pandas as pd\n",
    "import matplotlib.pyplot as plt\n",
    "\n",
    "# Load the Excel file\n",
    "xls = pd.ExcelFile('../data/apple_10k_2023.xlsx')\n",
    "\n",
    "# Read income and balance sheets\n",
    "income = xls.parse('Income Statement')\n",
    "balance = xls.parse('Balance Sheet')\n",
    "\n",
    "# Set 'Year' as index\n",
    "income.set_index('Year', inplace=True)\n",
    "balance.set_index('Year', inplace=True)"
   ]
  },
  {
   "cell_type": "code",
   "execution_count": null,
   "id": "b5071ec2",
   "metadata": {},
   "outputs": [],
   "source": [
    "# Calculate financial ratios\n",
    "ratios = pd.DataFrame({\n",
    "    'Gross Margin': income['Gross Profit'] / income['Revenue'],\n",
    "    'Operating Margin': income['Operating Income'] / income['Revenue'],\n",
    "    'Net Margin': income['Net Income'] / income['Revenue'],\n",
    "    'Current Ratio': balance['Current Assets'] / balance['Current Liabilities'],\n",
    "    'Debt to Equity': balance['Total Liabilities'] / balance[\"Shareholders' Equity\"]\n",
    "})\n",
    "\n",
    "ratios = ratios.round(3)\n",
    "ratios"
   ]
  },
  {
   "cell_type": "code",
   "execution_count": null,
   "id": "f15d28b4",
   "metadata": {},
   "outputs": [],
   "source": [
    "# Plot financial ratios\n",
    "ratios.plot(marker='o', figsize=(10, 6), title='Apple Financial Ratios (2021–2023)')\n",
    "plt.grid(True)\n",
    "plt.ylabel('Ratio')\n",
    "plt.xticks(ticks=range(len(ratios.index)), labels=ratios.index, rotation=0)\n",
    "plt.tight_layout()\n",
    "plt.show()"
   ]
  }
 ],
 "metadata": {},
 "nbformat": 4,
 "nbformat_minor": 5
}
